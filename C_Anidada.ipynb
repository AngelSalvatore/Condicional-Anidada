C1 = int(input("Ingrese la primera calificaión:"))
C2 = int(input("Ingrese la segunda calificaión:"))
C3 = int(input("Ingrese la tercera calificación:"))

Promedio = (C1 + C2 + C3)/3

if (Promedio >= 8):
    print("Eres un alumn excelente")
else:
    if(Promedio >=6):
        print("Eres un alumno regular")
    else:
        print("Reprovaste")
